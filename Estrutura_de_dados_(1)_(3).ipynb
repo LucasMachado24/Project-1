{
  "nbformat": 4,
  "nbformat_minor": 0,
  "metadata": {
    "colab": {
      "name": "Estrutura_de_dados_(1) (3).ipynb",
      "provenance": [],
      "collapsed_sections": [],
      "include_colab_link": true
    },
    "kernelspec": {
      "name": "python3",
      "display_name": "Python 3"
    },
    "language_info": {
      "name": "python"
    }
  },
  "cells": [
    {
      "cell_type": "markdown",
      "metadata": {
        "id": "view-in-github",
        "colab_type": "text"
      },
      "source": [
        "<a href=\"https://colab.research.google.com/github/LucasMachado24/Project-1/blob/main/Estrutura_de_dados_(1)_(3).ipynb\" target=\"_parent\"><img src=\"https://colab.research.google.com/assets/colab-badge.svg\" alt=\"Open In Colab\"/></a>"
      ]
    },
    {
      "cell_type": "code",
      "metadata": {
        "colab": {
          "base_uri": "https://localhost:8080/"
        },
        "id": "Hoxqd4bgp6cw",
        "outputId": "6db3c15e-a8e5-47c8-c98c-137f52cc7c7b"
      },
      "source": [
        "Filmes = [ 'Os Condenados de Shawshank', 'O Padrinho', 'O Padrinho: Parte II', 'O Cavaleiro das trevas', 'Doze Homens em Fúria', 'A Lista de Schindler', 'O Senhor dos Anéis - A Irmandade do Anel', 'Pulp Ficton', 'O Bom o mau, e o Vilão', ' O Senhor dos Anéis - A Irmandade do Anel' ]\n",
        "print(Filmes)\n",
        "print(type(Filmes))\n",
        "\n",
        "Filmes.insert(0, 'O Padrinho')\n",
        "Filmes.pop(2)\n",
        "print(Filmes)\n",
        "\n",
        "Filmes.append('Pulp Fiction')\n",
        "Filmes.append('O Bom o Mau, e o Vilão')\n",
        "Filmes.append('O Senhor dos Anéis - A Irmandade do anel')\n",
        "\n",
        "print(Filmes)\n",
        "\n",
        "Filmes = set(list(Filmes))\n"
      ],
      "execution_count": null,
      "outputs": [
        {
          "output_type": "stream",
          "name": "stdout",
          "text": [
            "['Os Condenados de Shawshank', 'O Padrinho', 'O Padrinho: Parte II', 'O Cavaleiro das trevas', 'Doze Homens em Fúria', 'A Lista de Schindler', 'O Senhor dos Anéis - A Irmandade do Anel', 'Pulp Ficton', 'O Bom o mau, e o Vilão', ' O Senhor dos Anéis - A Irmandade do Anel']\n",
            "<class 'list'>\n",
            "['O Padrinho', 'Os Condenados de Shawshank', 'O Padrinho: Parte II', 'O Cavaleiro das trevas', 'Doze Homens em Fúria', 'A Lista de Schindler', 'O Senhor dos Anéis - A Irmandade do Anel', 'Pulp Ficton', 'O Bom o mau, e o Vilão', ' O Senhor dos Anéis - A Irmandade do Anel']\n",
            "['O Padrinho', 'Os Condenados de Shawshank', 'O Padrinho: Parte II', 'O Cavaleiro das trevas', 'Doze Homens em Fúria', 'A Lista de Schindler', 'O Senhor dos Anéis - A Irmandade do Anel', 'Pulp Ficton', 'O Bom o mau, e o Vilão', ' O Senhor dos Anéis - A Irmandade do Anel', 'Pulp Fiction', 'O Bom o Mau, e o Vilão', 'O Senhor dos Anéis - A Irmandade do anel']\n"
          ]
        }
      ]
    },
    {
      "cell_type": "code",
      "metadata": {
        "colab": {
          "base_uri": "https://localhost:8080/"
        },
        "id": "odZM2G4n-Z1L",
        "outputId": "e0af84ca-78a0-4c08-f396-ba287f8995b5"
      },
      "source": [
        "Ranking = {9.2 , 9.1 , 9.0 , 9.0 , 8.9 , 8.9 , 8.9 , 8.8 , 8.8 , 8.8}\n",
        "print(Ranking) \n"
      ],
      "execution_count": null,
      "outputs": [
        {
          "output_type": "stream",
          "name": "stdout",
          "text": [
            "{8.9, 9.2, 8.8, 9.1, 9.0}\n"
          ]
        }
      ]
    },
    {
      "cell_type": "code",
      "metadata": {
        "colab": {
          "base_uri": "https://localhost:8080/"
        },
        "id": "_ZoIvwFMDdPD",
        "outputId": "f74ee102-9c40-47ff-cabf-f949e304c363"
      },
      "source": [
        "Filmes = {\n",
        "    'Os Condenados de Shawshank': {\n",
        "    'nome' : '<nome do filme> Os Condenados de Shawshank',\n",
        "    'ano' :  '<ano do filme>, 1994',\n",
        "    'sinopse' : '<sinopse do filme>, Andy Dufresne é condenado a duas prisões perpétuas consecutivas pelas mortes de sua esposa e de seu amante. Porém, só Andy sabe que ele não cometeu os crimes. No presídio, durante dezenove anos, ele faz amizade com Red, sofre as brutalidades da vida na cadeia, se adapta, ajuda os carcereiros, etc.',\n",
        "    'O Padrinho' : {\n",
        "    'nome' : '<nome do filme> O Padrinho',\n",
        "    'ano' : '<ano do filme> ,1972',\n",
        "    'sinopse' : '<sinopse do filme>, O padrinho \"Don\" Vito Corleone é o chefe da família mafiosa Corleone em Nova York. Ele está no evento do casamento de sua filha. Michael, o filho mais novo de Vito e um fuzileiro naval condecorado da Segunda Guerra Mundial, também está presente no casamento. Michael parece desinteressado em fazer parte dos negócios da família. Vito é um homem poderoso e gentil com todos aqueles que o respeitam, mas é implacável com aqueles que não o respeitam. Mas quando um rival poderoso e traiçoeiro quer vender drogas e precisa da influência de Don Corleone para isso, Vito se recusa a fazê-lo. O que se segue é um choque entre os velhos valores de Vito e as novas maneiras que podem levar Michael a fazer o que ele estava mais relutante em fazer e travar uma guerra de turba contra todas as outras famílias da máfia que poderia separar a família Corleone',   \n",
        "    'O Padrinho: Parte II' : {\n",
        "    'nome' : '<nome do filme> O Padrinho: Parte II',\n",
        "    'ano' :'<ano do filme> 1974',\n",
        "    'sinopse' : '<sinopse do filme>, A saga contínua da família do crime Corleone conta a história de um jovem Vito Corleone crescendo na Sicília e em 1910 em Nova York; e segue Michael Corleone na década de 1950, enquanto ele tenta expandir os negócios da família em Las Vegas, Hollywood e Cuba.',\n",
        "    'O Cavaleiro das Trevas' : {\n",
        "    'nome' : '<nome do filme> O Cavaleiro das Trevas',\n",
        "    'ano' : '<ano do filme>, 2008',\n",
        "    'sinopse' : '<sinopse do filme>, Passado um ano após os eventos de Batman Begins (2005), Batman, o tenente James Gordon e o novo promotor Harvey Dent começaram a prender os criminosos que assolam Gotham City, até que um misterioso e sádico gênio do crime conhecido apenas como \"O Joker \"aparece em Gotham, criando uma nova onda de caos. A luta do Batman contra o Coringa torna-se profundamente pessoal, forçando-o a \"confrontar tudo em que ele acredita\" e melhorar sua tecnologia para detê-lo. Um triângulo amoroso se desenvolve entre Bruce Wayne, Dent e Rachel Dawes.',\n",
        "    'Doze Homens em Fúria' : {\n",
        "    'nome' : '<nome do filme> Doze Homens em fúria',\n",
        "    'ano' : '<ano do filme> 1957',\n",
        "    'sinopse' : '<sinopse do filme>, A defesa e a acusação descansaram, e o júri está entrando na sala do júri para decidir se um jovem é culpado ou inocente do assassinato de seu pai. O que começa como um caso aberto e fechado de assassinato logo se torna uma história de detetive que apresenta uma sucessão de pistas que criam dúvidas e um mini-drama de cada um dos preconceitos e preconceitos dos jurados sobre o julgamento, o acusado e uns aos outros . Com base na peça, toda a ação se passa no palco da sala do júri.',\n",
        "    'A Lista de Schindler' : {\n",
        "    'nome' : '<nome do filme> A Lista de Schindler',\n",
        "    'ano' : '<ano do filme> 1993',\n",
        "    'sinopse' : '<sinopse do filme> Oskar Schindler é um empresário alemão vaidoso e ganancioso que se tornou um improvável humanitário em meio ao bárbaro reinado nazista alemão, quando se sentiu obrigado a transformar sua fábrica em um refúgio para judeus. Com base na história verídica de Oskar Schindler, que conseguiu salvar cerca de 1100 judeus de serem gaseados no campo de concentração de Auschwitz, é uma prova do bem que há em todos nós',\n",
        "    'O Senhor dos Anéis - O Regresso do rei' : {\n",
        "    'nome' : '<nome do filme> O Senhor dos Anéis - O Regresso do rei',\n",
        "    'ano' : '<ano do filme> 2003',\n",
        "    'sinopse' : '<sinopse do filme> O confronto final entre as forças do bem e do mal lutando pelo controle do futuro da Terra-média. Frodo e Sam alcançam Mordor em sua missão para destruir o Um Anel, enquanto Aragorn lidera as forças do bem contra o exército do mal de Sauron na cidade de pedra de Minas Tirith.',\n",
        "    'Pulp Ficton' : {\n",
        "    'nome' : '<nome do filme> Pulp Ficton',\n",
        "    'ano' : '<ano do filme> 1994',\n",
        "    'sinopse' : '<sinopse do filme> Jules Winnfield ( Samuel L. Jackson ) e Vincent Vega ( John Travolta ) são dois assassinos que procuram recuperar uma mala roubada de seu empregador, o chefão Marsellus Wallace ( Ving Rhames ). Wallace também pediu a Vincent para levar sua esposa Mia ( Uma Thurman ) alguns dias depois, quando o próprio Wallace estiver fora da cidade. Butch Coolidge ( Bruce Willis ) é um boxeador idoso que é pago por Wallace para perder sua luta. A vida dessas pessoas aparentemente não relacionadas é tecida em uma série de incidentes engraçados, bizarros e desnecessários.',\n",
        "    'O Bom o mau, e o Vilão' : {\n",
        "    'nome' : '<nome do filme> O Bom o mau, e o Vilão',\n",
        "    'ano' : '<ano do filme> 1966',\n",
        "    'sinopse' : '<sinopse do filme> Blondie, The Good (Clint Eastwood), é um pistoleiro profissional que está tentando ganhar alguns dólares. Olhos de anjo, o mau (Lee Van Cleef), é um assassino que sempre se compromete com uma tarefa e a cumpre - desde que seja pago para isso. E Tuco, o Feio (Eli Wallach), é um bandido procurado que tenta cuidar da própria pele. Tuco e Blondie compartilham uma parceria ganhando dinheiro com a generosidade de Tuco, mas quando Blondie desata a parceria, Tuco tenta caçar Blondie. Quando Blondie e Tuco encontram uma carruagem carregada de cadáveres, eles logo descobrem com o único sobrevivente, Bill Carson (Antonio Casale), que ele e alguns outros homens enterraram um esconderijo de ouro em um cemitério. Infelizmente, Carson morre e Tuco só descobre o nome do cemitério, enquanto Blondie descobre o nome no túmulo. Agora os dois devem se manter vivos para encontrar o ouro. Angel Eyes (que estava procurando por Bill Carson) descobre que Tuco e Blondie se encontraram com Carson e sabe que eles sabem onde está o ouro; agora ele precisa deles para conduzi-lo a isso. Agora, O Bom, o Mau e o Feio devem batalhar para colocar as mãos em $ 200.000,00 em ouro.',\n",
        "    'O Senhor dos Anéis - A Irmandade do Anel' : {\n",
        "    'nome' : '<nome do filme> O Senhor dos Anéis - A irmandade do Anel',\n",
        "    'ano' : '<ano do filme> 2001',\n",
        "    'sinopse' : '<sinopse do filme>Um antigo pensamento do Anel perdido por séculos foi encontrado e, por meio de uma estranha reviravolta do destino, foi dado a um pequeno Hobbit chamado Frodo. Quando Gandalf descobre que o Anel é na verdade o Um Anel do Lorde das Trevas Sauron, Frodo deve fazer uma jornada épica para as Fendas da Perdição para destruí-lo. No entanto, ele não vai sozinho. Ele é acompanhado por Gandalf, Legolas, o elfo, Gimli, o Anão, Aragorn, Boromir e seus três amigos Hobbit, Merry, Pippin e Samwise. Através de montanhas, neve, escuridão, florestas, rios e planícies, enfrentando o mal e o perigo em cada esquina que a Sociedade do Anel deve percorrer. Sua busca para destruir o Um Anel é a única esperança para o fim do reinado dos Lordes Negros',\n",
        "        \n",
        "    }   \n",
        "    }  \n",
        "    }    \n",
        "    }     \n",
        "    }     \n",
        "    }    \n",
        "    }   \n",
        "    }\n",
        "    }\n",
        "    },\n",
        "}\n",
        "\n",
        "print(Filmes)\n",
        "    \n"
      ],
      "execution_count": null,
      "outputs": [
        {
          "output_type": "stream",
          "name": "stdout",
          "text": [
            "{'Os Condenados de Shawshank': {'nome': '<nome do filme> Os Condenados de Shawshank', 'ano': '<ano do filme>, 1994', 'sinopse': '<sinopse do filme>, Andy Dufresne é condenado a duas prisões perpétuas consecutivas pelas mortes de sua esposa e de seu amante. Porém, só Andy sabe que ele não cometeu os crimes. No presídio, durante dezenove anos, ele faz amizade com Red, sofre as brutalidades da vida na cadeia, se adapta, ajuda os carcereiros, etc.', 'O Padrinho': {'nome': '<nome do filme> O Padrinho', 'ano': '<ano do filme> ,1972', 'sinopse': '<sinopse do filme>, O padrinho \"Don\" Vito Corleone é o chefe da família mafiosa Corleone em Nova York. Ele está no evento do casamento de sua filha. Michael, o filho mais novo de Vito e um fuzileiro naval condecorado da Segunda Guerra Mundial, também está presente no casamento. Michael parece desinteressado em fazer parte dos negócios da família. Vito é um homem poderoso e gentil com todos aqueles que o respeitam, mas é implacável com aqueles que não o respeitam. Mas quando um rival poderoso e traiçoeiro quer vender drogas e precisa da influência de Don Corleone para isso, Vito se recusa a fazê-lo. O que se segue é um choque entre os velhos valores de Vito e as novas maneiras que podem levar Michael a fazer o que ele estava mais relutante em fazer e travar uma guerra de turba contra todas as outras famílias da máfia que poderia separar a família Corleone', 'O Padrinho: Parte II': {'nome': '<nome do filme> O Padrinho: Parte II', 'ano': '<ano do filme> 1974', 'sinopse': '<sinopse do filme>, A saga contínua da família do crime Corleone conta a história de um jovem Vito Corleone crescendo na Sicília e em 1910 em Nova York; e segue Michael Corleone na década de 1950, enquanto ele tenta expandir os negócios da família em Las Vegas, Hollywood e Cuba.', 'O Cavaleiro das Trevas': {'nome': '<nome do filme> O Cavaleiro das Trevas', 'ano': '<ano do filme>, 2008', 'sinopse': '<sinopse do filme>, Passado um ano após os eventos de Batman Begins (2005), Batman, o tenente James Gordon e o novo promotor Harvey Dent começaram a prender os criminosos que assolam Gotham City, até que um misterioso e sádico gênio do crime conhecido apenas como \"O Joker \"aparece em Gotham, criando uma nova onda de caos. A luta do Batman contra o Coringa torna-se profundamente pessoal, forçando-o a \"confrontar tudo em que ele acredita\" e melhorar sua tecnologia para detê-lo. Um triângulo amoroso se desenvolve entre Bruce Wayne, Dent e Rachel Dawes.', 'Doze Homens em Fúria': {'nome': '<nome do filme> Doze Homens em fúria', 'ano': '<ano do filme> 1957', 'sinopse': '<sinopse do filme>, A defesa e a acusação descansaram, e o júri está entrando na sala do júri para decidir se um jovem é culpado ou inocente do assassinato de seu pai. O que começa como um caso aberto e fechado de assassinato logo se torna uma história de detetive que apresenta uma sucessão de pistas que criam dúvidas e um mini-drama de cada um dos preconceitos e preconceitos dos jurados sobre o julgamento, o acusado e uns aos outros . Com base na peça, toda a ação se passa no palco da sala do júri.', 'A Lista de Schindler': {'nome': '<nome do filme> A Lista de Schindler', 'ano': '<ano do filme> 1993', 'sinopse': '<sinopse do filme> Oskar Schindler é um empresário alemão vaidoso e ganancioso que se tornou um improvável humanitário em meio ao bárbaro reinado nazista alemão, quando se sentiu obrigado a transformar sua fábrica em um refúgio para judeus. Com base na história verídica de Oskar Schindler, que conseguiu salvar cerca de 1100 judeus de serem gaseados no campo de concentração de Auschwitz, é uma prova do bem que há em todos nós', 'O Senhor dos Anéis - O Regresso do rei': {'nome': '<nome do filme> O Senhor dos Anéis - O Regresso do rei', 'ano': '<ano do filme> 2003', 'sinopse': '<sinopse do filme> O confronto final entre as forças do bem e do mal lutando pelo controle do futuro da Terra-média. Frodo e Sam alcançam Mordor em sua missão para destruir o Um Anel, enquanto Aragorn lidera as forças do bem contra o exército do mal de Sauron na cidade de pedra de Minas Tirith.', 'Pulp Ficton': {'nome': '<nome do filme> Pulp Ficton', 'ano': '<ano do filme> 1994', 'sinopse': '<sinopse do filme> Jules Winnfield ( Samuel L. Jackson ) e Vincent Vega ( John Travolta ) são dois assassinos que procuram recuperar uma mala roubada de seu empregador, o chefão Marsellus Wallace ( Ving Rhames ). Wallace também pediu a Vincent para levar sua esposa Mia ( Uma Thurman ) alguns dias depois, quando o próprio Wallace estiver fora da cidade. Butch Coolidge ( Bruce Willis ) é um boxeador idoso que é pago por Wallace para perder sua luta. A vida dessas pessoas aparentemente não relacionadas é tecida em uma série de incidentes engraçados, bizarros e desnecessários.', 'O Bom o mau, e o Vilão': {'nome': '<nome do filme> O Bom o mau, e o Vilão', 'ano': '<ano do filme> 1966', 'sinopse': '<sinopse do filme> Blondie, The Good (Clint Eastwood), é um pistoleiro profissional que está tentando ganhar alguns dólares. Olhos de anjo, o mau (Lee Van Cleef), é um assassino que sempre se compromete com uma tarefa e a cumpre - desde que seja pago para isso. E Tuco, o Feio (Eli Wallach), é um bandido procurado que tenta cuidar da própria pele. Tuco e Blondie compartilham uma parceria ganhando dinheiro com a generosidade de Tuco, mas quando Blondie desata a parceria, Tuco tenta caçar Blondie. Quando Blondie e Tuco encontram uma carruagem carregada de cadáveres, eles logo descobrem com o único sobrevivente, Bill Carson (Antonio Casale), que ele e alguns outros homens enterraram um esconderijo de ouro em um cemitério. Infelizmente, Carson morre e Tuco só descobre o nome do cemitério, enquanto Blondie descobre o nome no túmulo. Agora os dois devem se manter vivos para encontrar o ouro. Angel Eyes (que estava procurando por Bill Carson) descobre que Tuco e Blondie se encontraram com Carson e sabe que eles sabem onde está o ouro; agora ele precisa deles para conduzi-lo a isso. Agora, O Bom, o Mau e o Feio devem batalhar para colocar as mãos em $ 200.000,00 em ouro.', 'O Senhor dos Anéis - A Irmandade do Anel': {'nome': '<nome do filme> O Senhor dos Anéis - A irmandade do Anel', 'ano': '<ano do filme> 2001', 'sinopse': '<sinopse do filme>Um antigo pensamento do Anel perdido por séculos foi encontrado e, por meio de uma estranha reviravolta do destino, foi dado a um pequeno Hobbit chamado Frodo. Quando Gandalf descobre que o Anel é na verdade o Um Anel do Lorde das Trevas Sauron, Frodo deve fazer uma jornada épica para as Fendas da Perdição para destruí-lo. No entanto, ele não vai sozinho. Ele é acompanhado por Gandalf, Legolas, o elfo, Gimli, o Anão, Aragorn, Boromir e seus três amigos Hobbit, Merry, Pippin e Samwise. Através de montanhas, neve, escuridão, florestas, rios e planícies, enfrentando o mal e o perigo em cada esquina que a Sociedade do Anel deve percorrer. Sua busca para destruir o Um Anel é a única esperança para o fim do reinado dos Lordes Negros'}}}}}}}}}}}\n"
          ]
        }
      ]
    },
    {
      "cell_type": "code",
      "metadata": {
        "id": "yHJboGTI8ug0"
      },
      "source": [
        ""
      ],
      "execution_count": null,
      "outputs": []
    }
  ]
}